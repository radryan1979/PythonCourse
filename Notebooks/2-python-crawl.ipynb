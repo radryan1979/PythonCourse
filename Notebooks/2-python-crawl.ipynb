{
 "cells": [
  {
   "attachments": {},
   "cell_type": "markdown",
   "metadata": {},
   "source": [
    "commenting code\n",
    "\n",
    "# and '''\n",
    "\n",
    "\n",
    "printing\n",
    "\n",
    "print a string\n",
    "add to a string / concatenation\n",
    "string multiplication\n",
    "\n",
    "escape characters \\n \\'\n",
    "\n",
    "multi line string \"\"\" \"\"\"\n",
    "\n",
    "formatting text\n",
    "\n",
    "\n",
    "basic math\n",
    "exponent\n",
    "modulus/remainder\n",
    "integer division\n",
    "division\n",
    "multiplicaiton\n",
    "subtraction\n",
    "addition\n",
    "\n"
   ]
  },
  {
   "cell_type": "code",
   "execution_count": 3,
   "metadata": {},
   "outputs": [
    {
     "name": "stdout",
     "output_type": "stream",
     "text": [
      "Hello\n",
      "Hello world!\n",
      "RyanRyanRyanRyanRyan\n"
     ]
    }
   ],
   "source": [
    "print('Hello')\n",
    "\n",
    "print('Hello' + ' ' + 'world!')\n",
    "\n",
    "print('Ryan' * 5)"
   ]
  },
  {
   "attachments": {},
   "cell_type": "markdown",
   "metadata": {},
   "source": [
    "Adding some formatting to your strings"
   ]
  },
  {
   "cell_type": "code",
   "execution_count": 9,
   "metadata": {},
   "outputs": [
    {
     "name": "stdout",
     "output_type": "stream",
     "text": [
      "The car costs 45678.2343\n",
      "The car costs 45678.23\n",
      "The car costs 45,678.23\n"
     ]
    }
   ],
   "source": [
    "txt1 = \"The car costs {0}\"\n",
    "print(txt1.format(45678.2343))\n",
    "\n",
    "txt2 = \"The car costs {0:.2f}\"\n",
    "print(txt2.format(45678.2343))\n",
    "\n",
    "txt3 = \"The car costs {0:,.2f}\"\n",
    "print(txt3.format(45678.2343))"
   ]
  },
  {
   "attachments": {},
   "cell_type": "markdown",
   "metadata": {},
   "source": [
    "You can use text formating to generate messages or output with different values."
   ]
  },
  {
   "cell_type": "code",
   "execution_count": 10,
   "metadata": {},
   "outputs": [
    {
     "name": "stdout",
     "output_type": "stream",
     "text": [
      "This is run # 0\n",
      "This is run # 1\n",
      "This is run # 2\n",
      "This is run # 3\n",
      "This is run # 4\n",
      "This is run # 5\n",
      "This is run # 6\n",
      "This is run # 7\n",
      "This is run # 8\n",
      "This is run # 9\n"
     ]
    }
   ],
   "source": [
    "txt = \"This is run # {0}\"\n",
    "\n",
    "for i in range(10):\n",
    "    print(txt.format(i))"
   ]
  },
  {
   "cell_type": "code",
   "execution_count": 4,
   "metadata": {},
   "outputs": [
    {
     "name": "stdout",
     "output_type": "stream",
     "text": [
      "You can comment on a line of code\n"
     ]
    },
    {
     "data": {
      "text/plain": [
       "'\\nThis is a multi-line    \\ncomment. It can also be used\\nas a doc string for auto\\ncode documentation generation.\\n'"
      ]
     },
     "execution_count": 4,
     "metadata": {},
     "output_type": "execute_result"
    }
   ],
   "source": [
    "#Code Commenting\n",
    "\n",
    "#A single line comment\n",
    "\n",
    "print('You can comment on a line of code') #This is a comment after a line of code\n",
    "\n",
    "\"\"\"\n",
    "This is a multi-line    \n",
    "comment. It can also be used\n",
    "as a doc string for auto\n",
    "code documentation generation.\n",
    "\"\"\""
   ]
  }
 ],
 "metadata": {
  "kernelspec": {
   "display_name": "base",
   "language": "python",
   "name": "python3"
  },
  "language_info": {
   "codemirror_mode": {
    "name": "ipython",
    "version": 3
   },
   "file_extension": ".py",
   "mimetype": "text/x-python",
   "name": "python",
   "nbconvert_exporter": "python",
   "pygments_lexer": "ipython3",
   "version": "3.9.13"
  },
  "orig_nbformat": 4,
  "vscode": {
   "interpreter": {
    "hash": "118062133b0c6bb80e1f2544dbcc34f8df47a9cf2173203c7f1f3596e7b13a29"
   }
  }
 },
 "nbformat": 4,
 "nbformat_minor": 2
}
