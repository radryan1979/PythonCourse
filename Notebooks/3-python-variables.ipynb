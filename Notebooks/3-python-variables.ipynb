{
 "cells": [
  {
   "attachments": {},
   "cell_type": "markdown",
   "metadata": {},
   "source": [
    "Variable basics\n",
    "naming rules\n",
    "no special characters, numbers can start the variable name\n",
    "must only be letters, numbers, underscore\n",
    "\n",
    "best practices\n",
    "case\n",
    "make it descriptive\n",
    "global variabls - all caps - start of program\n",
    "\n",
    "\n",
    "assigning a variable (dynamically typed)\n",
    "\n",
    "string, int, float, bool, byte\n",
    "\n",
    "list\n",
    "tuple\n",
    "string bytes\n",
    "dict\n",
    "set\n",
    "\n",
    "be careful when assigning vs copying (especially in numpy)\n",
    "\n",
    "del to delete a variable\n",
    "\n",
    "len - length\n",
    "type - what kind of variabe\n"
   ]
  },
  {
   "cell_type": "code",
   "execution_count": 1,
   "metadata": {},
   "outputs": [
    {
     "name": "stdout",
     "output_type": "stream",
     "text": [
      "Some text...\n",
      "34\n"
     ]
    }
   ],
   "source": [
    "myVariable = \"Some text...\"\n",
    "print(myVariable)\n",
    "\n",
    "myVariable = 34\n",
    "print(myVariable)"
   ]
  },
  {
   "attachments": {},
   "cell_type": "markdown",
   "metadata": {},
   "source": [
    "## Lists\n",
    "\n",
    "List are mutable collections"
   ]
  },
  {
   "cell_type": "code",
   "execution_count": 20,
   "metadata": {},
   "outputs": [
    {
     "name": "stdout",
     "output_type": "stream",
     "text": [
      "['a', 'b', 'c', 'd', 'e', 'f', 'g', 'h', 'i', 'j', 'k', 'l', 'm', 'n', 'o', 'p', 'q', 'r', 's', 't', 'u', 'v', 'w', 'x', 'y', 'z']\n"
     ]
    },
    {
     "data": {
      "text/plain": [
       "26"
      ]
     },
     "execution_count": 20,
     "metadata": {},
     "output_type": "execute_result"
    }
   ],
   "source": [
    "myList = ['a','b','c','d','e','f','g','h','i','j','k','l','m','n','o','p','q','r','s','t','u','v','w','x','y','z']\n",
    "print(myList)\n",
    "\n",
    "len(myList)"
   ]
  },
  {
   "attachments": {},
   "cell_type": "markdown",
   "metadata": {},
   "source": [
    "### Indexes and Slices\n"
   ]
  },
  {
   "cell_type": "code",
   "execution_count": 21,
   "metadata": {},
   "outputs": [
    {
     "data": {
      "text/plain": [
       "'a'"
      ]
     },
     "execution_count": 21,
     "metadata": {},
     "output_type": "execute_result"
    }
   ],
   "source": [
    "# indexes for any objects in Python always start at 0\n",
    "\n",
    "myList[0]"
   ]
  },
  {
   "cell_type": "code",
   "execution_count": 22,
   "metadata": {},
   "outputs": [
    {
     "data": {
      "text/plain": [
       "'z'"
      ]
     },
     "execution_count": 22,
     "metadata": {},
     "output_type": "execute_result"
    }
   ],
   "source": [
    "# you can index from the end using negative numbers\n",
    "myList[-1]"
   ]
  },
  {
   "cell_type": "code",
   "execution_count": 25,
   "metadata": {},
   "outputs": [
    {
     "data": {
      "text/plain": [
       "['n', 'o', 'p', 'q', 'r']"
      ]
     },
     "execution_count": 25,
     "metadata": {},
     "output_type": "execute_result"
    }
   ],
   "source": [
    "myList[13:18] #slicing a subset of the list"
   ]
  },
  {
   "cell_type": "code",
   "execution_count": 27,
   "metadata": {},
   "outputs": [
    {
     "data": {
      "text/plain": [
       "['o', 'p', 'q', 'r', 's', 't', 'u', 'v', 'w', 'x', 'y']"
      ]
     },
     "execution_count": 27,
     "metadata": {},
     "output_type": "execute_result"
    }
   ],
   "source": [
    "myList[14:-1] #grabbing the last half of the list"
   ]
  },
  {
   "cell_type": "code",
   "execution_count": 29,
   "metadata": {},
   "outputs": [
    {
     "data": {
      "text/plain": [
       "['t', 'u', 'v', 'w', 'x', 'y', 'z']"
      ]
     },
     "execution_count": 29,
     "metadata": {},
     "output_type": "execute_result"
    }
   ],
   "source": [
    "myList[19:] #grab all elements starting at index 19"
   ]
  },
  {
   "cell_type": "code",
   "execution_count": 30,
   "metadata": {},
   "outputs": [
    {
     "data": {
      "text/plain": [
       "['a', 'b', 'c', 'd', 'e']"
      ]
     },
     "execution_count": 30,
     "metadata": {},
     "output_type": "execute_result"
    }
   ],
   "source": [
    "myList[:5] #grab all elements from 0 up to the index given"
   ]
  },
  {
   "cell_type": "code",
   "execution_count": 34,
   "metadata": {},
   "outputs": [
    {
     "name": "stdout",
     "output_type": "stream",
     "text": [
      "Full list: \n",
      "['a', 'b', 'c', 'd', 'e', 'f', 'g', 'h', 'i', 'j', 'k', 'l', 'm', 'n', 'o', 'p', 'q', 'r', 's', 't', 'u', 'v', 'w', 'x', 'y', 'z']\n",
      "A subset: \n",
      "['f', 'g', 'h', 'i', 'j', 'k', 'l', 'm', 'n', 'o', 'p', 'q', 'r', 's', 't']\n"
     ]
    }
   ],
   "source": [
    "myList[:] #the whole list\n",
    "\n",
    "aSecondList = myList[:] #you can copy a list this way, using just the colon copies the entire list\n",
    "\n",
    "aSubset = myList[5:20] #this is a new variable with just a subset of the elements\n",
    "\n",
    "print(\"Full list: \")\n",
    "print(aSecondList)\n",
    "\n",
    "print(\"A subset: \")\n",
    "print(aSubset)"
   ]
  },
  {
   "attachments": {},
   "cell_type": "markdown",
   "metadata": {},
   "source": [
    "### Changing List Elements"
   ]
  },
  {
   "cell_type": "code",
   "execution_count": 36,
   "metadata": {},
   "outputs": [
    {
     "name": "stdout",
     "output_type": "stream",
     "text": [
      "['blue', 'red', 'yellow']\n",
      "['blue', 'red', 'yellow', 'green']\n"
     ]
    }
   ],
   "source": [
    "# Adding Elements to a List\n",
    "\n",
    "colorsList = ['blue','red','yellow']\n",
    "\n",
    "print(colorsList)\n",
    "\n",
    "# append a new element to the end of the list\n",
    "colorsList.append('green')\n",
    "\n",
    "print(colorsList)"
   ]
  },
  {
   "attachments": {},
   "cell_type": "markdown",
   "metadata": {},
   "source": [
    "## Tuples\n",
    "\n",
    "Tuples are a collection that is immutable (the elements can't be changed once the tuple is declared)"
   ]
  },
  {
   "cell_type": "code",
   "execution_count": 8,
   "metadata": {},
   "outputs": [
    {
     "name": "stdout",
     "output_type": "stream",
     "text": [
      "(34, 44, 54, 64, 74)\n",
      "34\n",
      "44\n",
      "('one', 'two', 'three', 'four', 'five')\n",
      "one turtle dove\n",
      " two turtle doves\n",
      " three french hens\n",
      " four calling birds\n",
      " five golden rings\n"
     ]
    }
   ],
   "source": [
    "aTuple = (34,44,54,64,74)\n",
    "print(aTuple)\n",
    "\n",
    "print(aTuple[0])\n",
    "print(aTuple[1])\n",
    "\n",
    "aStringTuple = ('one','two','three','four','five')\n",
    "print(aStringTuple)\n",
    "\n",
    "aSentence = \"{0} turtle dove\\n {1} turtle doves\\n {2} french hens\\n {3} calling birds\\n {4} golden rings\"\n",
    "print(aSentence.format(aStringTuple[0],aStringTuple[1],aStringTuple[2],aStringTuple[3],aStringTuple[4]))"
   ]
  },
  {
   "cell_type": "code",
   "execution_count": null,
   "metadata": {},
   "outputs": [],
   "source": []
  }
 ],
 "metadata": {
  "kernelspec": {
   "display_name": "base",
   "language": "python",
   "name": "python3"
  },
  "language_info": {
   "codemirror_mode": {
    "name": "ipython",
    "version": 3
   },
   "file_extension": ".py",
   "mimetype": "text/x-python",
   "name": "python",
   "nbconvert_exporter": "python",
   "pygments_lexer": "ipython3",
   "version": "3.9.13"
  },
  "orig_nbformat": 4,
  "vscode": {
   "interpreter": {
    "hash": "118062133b0c6bb80e1f2544dbcc34f8df47a9cf2173203c7f1f3596e7b13a29"
   }
  }
 },
 "nbformat": 4,
 "nbformat_minor": 2
}
