{
 "cells": [
  {
   "attachments": {},
   "cell_type": "markdown",
   "metadata": {},
   "source": [
    "# Variables\n",
    "\n",
    "\n",
    "## Naming Variables\n",
    "\n",
    "* Python variable names can contain letters, numbers and underscores only. \n",
    "* They can't start with a number.\n",
    "\n",
    "```python\n",
    "aVariable = 3 # Good variable name\n",
    "\n",
    "2factor = 3 # This won't work\n",
    "\n",
    "factorOf2 = 2 # Numbers can be used anywhere except the first character\n",
    "\n",
    "this_Works = \"hello\" # This is good\n",
    "```\n",
    "Make sure your variable name describes what it is. Stay away from random letter assignments. If you are using letters to replicate a formular, be sure to comment each variable with a description of what it is.\n",
    "\n",
    "```python\n",
    "m = 23    # m, mass in kilograms\n",
    "a = 22.5  # a, acceleration in m/s^2\n",
    "F = 0     # F, force in Newtons\n",
    "\n",
    "F = m*a   # force calculation\n",
    "\n",
    "```\n",
    "### Global vs. Local Variables\n",
    "\n",
    "When you're writing a program, you may encounter the need to declare some variables that will be used in different areas of the program and generally don't change once the program begins running. These are global variables, usually constants or settings loaded/set at the start of the program. The convention for global variables is to use all capital letters.\n",
    "\n",
    "```python\n",
    "PI = 3.14159\n",
    "EARTH_RADIUS = 6378.1 # radius in km\n",
    "```\n",
    "\n",
    "### Variable Types\n",
    "\n",
    "Python variables are dynamically typed, that is, unlike some languages, you do not explicitly tell the computer what kind of value will be stored in the variable. In Python, you simply assign a value to a variable and Python determines what the type is based on the value.\n",
    "\n",
    "```python\n",
    "myVariable = 1 # this is automatically an integer\n",
    "\n",
    "myVariable2 = \"Hello world!\" # this is automatically a string\n",
    "\n",
    "```\n",
    "\n",
    "You can check the type of any variable using the `type` keyword."
   ]
  },
  {
   "cell_type": "code",
   "execution_count": 40,
   "metadata": {},
   "outputs": [
    {
     "data": {
      "text/plain": [
       "int"
      ]
     },
     "execution_count": 40,
     "metadata": {},
     "output_type": "execute_result"
    }
   ],
   "source": [
    "myVariable = 3 # this should be an int\n",
    "type(myVariable)"
   ]
  },
  {
   "attachments": {},
   "cell_type": "markdown",
   "metadata": {},
   "source": [
    "## Python Variable Types\n",
    "\n",
    "Python provides the core built-in types you'll find in almost all languages.\n",
    "\n",
    "```python\n",
    "\n",
    "anInteger = 345   # int\n",
    "aFloat    = 3.45  # float\n",
    "aBool     = True  # bool, either True or False\n",
    "aString   = 'Hello world!' # a string\n",
    "aComplex  = 3+45j # a complex number\n",
    "\n",
    "```"
   ]
  },
  {
   "cell_type": "code",
   "execution_count": 41,
   "metadata": {},
   "outputs": [
    {
     "name": "stdout",
     "output_type": "stream",
     "text": [
      "Variable Types:\n",
      "<class 'int'>\n",
      "<class 'float'>\n",
      "<class 'bool'>\n",
      "<class 'str'>\n",
      "<class 'complex'>\n"
     ]
    }
   ],
   "source": [
    "anInteger = 345\n",
    "aFloat = 3.45\n",
    "aBool = True\n",
    "aString = 'Hello world!'\n",
    "aComplex = 3+45j\n",
    "\n",
    "print('Variable Types:')\n",
    "print(type(anInteger))\n",
    "print(type(aFloat))\n",
    "print(type(aBool))\n",
    "print(type(aString))\n",
    "print(type(aComplex))\n"
   ]
  },
  {
   "attachments": {},
   "cell_type": "markdown",
   "metadata": {},
   "source": [
    "list\n",
    "tuple\n",
    "string bytes\n",
    "dict\n",
    "set\n",
    "\n",
    "be careful when assigning vs copying (especially in numpy)\n",
    "\n",
    "del to delete a variable\n",
    "\n",
    "len - length\n",
    "type - what kind of variabe"
   ]
  },
  {
   "attachments": {},
   "cell_type": "markdown",
   "metadata": {},
   "source": [
    "## Assigning and Managing Variables\n",
    "\n",
    "Assigning variables is as simple as putting an equal sign between the variable name and the value.\n",
    "```python\n",
    "myVariable = 'Something'\n",
    "myVariable = 345\n",
    "```\n",
    "\n",
    "As seen above, you can reassign a variable by just setting it equal to something different, including different types.\n",
    "\n",
    "`type` will tell you what kind of value is assigned to the variable\n",
    "`len` will tell you how long the variable is if its a collection such as a string or list.\n",
    "`del` will delete a variable from memory"
   ]
  },
  {
   "cell_type": "code",
   "execution_count": 43,
   "metadata": {},
   "outputs": [
    {
     "name": "stdout",
     "output_type": "stream",
     "text": [
      "Just some text.\n",
      "<class 'str'>\n",
      "15\n",
      "Now I'm going to reassign myVariable\n",
      "3.45\n",
      "<class 'float'>\n",
      "Now I will delete my variable.\n"
     ]
    },
    {
     "ename": "NameError",
     "evalue": "name 'myVariable' is not defined",
     "output_type": "error",
     "traceback": [
      "\u001b[0;31m---------------------------------------------------------------------------\u001b[0m",
      "\u001b[0;31mNameError\u001b[0m                                 Traceback (most recent call last)",
      "\u001b[0;32m/var/folders/hg/by60chbx3gv__xtd5c1p9sxm0000gn/T/ipykernel_52981/2614890835.py\u001b[0m in \u001b[0;36m<module>\u001b[0;34m\u001b[0m\n\u001b[1;32m     12\u001b[0m \u001b[0mprint\u001b[0m\u001b[0;34m(\u001b[0m\u001b[0;34m'Now I will delete my variable.'\u001b[0m\u001b[0;34m)\u001b[0m\u001b[0;34m\u001b[0m\u001b[0;34m\u001b[0m\u001b[0m\n\u001b[1;32m     13\u001b[0m \u001b[0;32mdel\u001b[0m\u001b[0;34m(\u001b[0m\u001b[0mmyVariable\u001b[0m\u001b[0;34m)\u001b[0m\u001b[0;34m\u001b[0m\u001b[0;34m\u001b[0m\u001b[0m\n\u001b[0;32m---> 14\u001b[0;31m \u001b[0mprint\u001b[0m\u001b[0;34m(\u001b[0m\u001b[0mmyVariable\u001b[0m\u001b[0;34m)\u001b[0m\u001b[0;34m\u001b[0m\u001b[0;34m\u001b[0m\u001b[0m\n\u001b[0m",
      "\u001b[0;31mNameError\u001b[0m: name 'myVariable' is not defined"
     ]
    }
   ],
   "source": [
    "myVariable = 'Just some text.'\n",
    "print(myVariable)\n",
    "print(type(myVariable))\n",
    "print(len(myVariable))\n",
    "\n",
    "print('Now I\\'m going to reassign myVariable')\n",
    "myVariable = 3.45 # now I've reasigned this variable\n",
    "print(myVariable)\n",
    "print(type(myVariable))\n",
    "#print(len(myVariable)) \\\\\\ this won't work on a float type as it is not a collection\n",
    "\n",
    "print('Now I will delete my variable.')\n",
    "del(myVariable)\n",
    "print(myVariable) # This should throw an error saying myVariable is not defined"
   ]
  },
  {
   "attachments": {},
   "cell_type": "markdown",
   "metadata": {},
   "source": [
    "## Variable Conversions\n",
    "\n",
    "You can convert some variables from one type to another.\n"
   ]
  },
  {
   "cell_type": "code",
   "execution_count": 38,
   "metadata": {},
   "outputs": [
    {
     "data": {
      "text/plain": [
       "15"
      ]
     },
     "execution_count": 38,
     "metadata": {},
     "output_type": "execute_result"
    }
   ],
   "source": [
    "# Convert a string to an integer\n",
    "int('15')"
   ]
  },
  {
   "cell_type": "code",
   "execution_count": 39,
   "metadata": {},
   "outputs": [
    {
     "data": {
      "text/plain": [
       "15"
      ]
     },
     "execution_count": 39,
     "metadata": {},
     "output_type": "execute_result"
    }
   ],
   "source": [
    "# Convert a float to an integer\n",
    "int(15.45)"
   ]
  },
  {
   "attachments": {},
   "cell_type": "markdown",
   "metadata": {},
   "source": [
    "## Lists\n",
    "\n",
    "Lists are indexed collections, the first element starting with 0. They are mutable, so the individual elements can be changed. "
   ]
  },
  {
   "cell_type": "code",
   "execution_count": 20,
   "metadata": {},
   "outputs": [
    {
     "name": "stdout",
     "output_type": "stream",
     "text": [
      "['a', 'b', 'c', 'd', 'e', 'f', 'g', 'h', 'i', 'j', 'k', 'l', 'm', 'n', 'o', 'p', 'q', 'r', 's', 't', 'u', 'v', 'w', 'x', 'y', 'z']\n"
     ]
    },
    {
     "data": {
      "text/plain": [
       "26"
      ]
     },
     "execution_count": 20,
     "metadata": {},
     "output_type": "execute_result"
    }
   ],
   "source": [
    "myList = ['a','b','c','d','e','f','g','h','i','j','k','l','m','n','o','p','q','r','s','t','u','v','w','x','y','z']\n",
    "print(myList)\n",
    "\n",
    "len(myList)"
   ]
  },
  {
   "attachments": {},
   "cell_type": "markdown",
   "metadata": {},
   "source": [
    "### Indexes and Slices\n",
    "\n",
    "Slicing is a way to access subsets of elements in a list. You'll see slicing again when we look at Numpy arrays.\n"
   ]
  },
  {
   "cell_type": "code",
   "execution_count": 21,
   "metadata": {},
   "outputs": [
    {
     "data": {
      "text/plain": [
       "'a'"
      ]
     },
     "execution_count": 21,
     "metadata": {},
     "output_type": "execute_result"
    }
   ],
   "source": [
    "# indexes for any objects in Python always start at 0\n",
    "\n",
    "myList[0]"
   ]
  },
  {
   "cell_type": "code",
   "execution_count": 22,
   "metadata": {},
   "outputs": [
    {
     "data": {
      "text/plain": [
       "'z'"
      ]
     },
     "execution_count": 22,
     "metadata": {},
     "output_type": "execute_result"
    }
   ],
   "source": [
    "# you can index from the end using negative numbers\n",
    "myList[-1]"
   ]
  },
  {
   "cell_type": "code",
   "execution_count": 25,
   "metadata": {},
   "outputs": [
    {
     "data": {
      "text/plain": [
       "['n', 'o', 'p', 'q', 'r']"
      ]
     },
     "execution_count": 25,
     "metadata": {},
     "output_type": "execute_result"
    }
   ],
   "source": [
    "myList[13:18] #slicing a subset of the list"
   ]
  },
  {
   "cell_type": "code",
   "execution_count": 27,
   "metadata": {},
   "outputs": [
    {
     "data": {
      "text/plain": [
       "['o', 'p', 'q', 'r', 's', 't', 'u', 'v', 'w', 'x', 'y']"
      ]
     },
     "execution_count": 27,
     "metadata": {},
     "output_type": "execute_result"
    }
   ],
   "source": [
    "myList[14:-1] #grabbing the last half of the list"
   ]
  },
  {
   "cell_type": "code",
   "execution_count": 29,
   "metadata": {},
   "outputs": [
    {
     "data": {
      "text/plain": [
       "['t', 'u', 'v', 'w', 'x', 'y', 'z']"
      ]
     },
     "execution_count": 29,
     "metadata": {},
     "output_type": "execute_result"
    }
   ],
   "source": [
    "myList[19:] #grab all elements starting at index 19"
   ]
  },
  {
   "cell_type": "code",
   "execution_count": 30,
   "metadata": {},
   "outputs": [
    {
     "data": {
      "text/plain": [
       "['a', 'b', 'c', 'd', 'e']"
      ]
     },
     "execution_count": 30,
     "metadata": {},
     "output_type": "execute_result"
    }
   ],
   "source": [
    "myList[:5] #grab all elements from 0 up to the index given"
   ]
  },
  {
   "cell_type": "code",
   "execution_count": 34,
   "metadata": {},
   "outputs": [
    {
     "name": "stdout",
     "output_type": "stream",
     "text": [
      "Full list: \n",
      "['a', 'b', 'c', 'd', 'e', 'f', 'g', 'h', 'i', 'j', 'k', 'l', 'm', 'n', 'o', 'p', 'q', 'r', 's', 't', 'u', 'v', 'w', 'x', 'y', 'z']\n",
      "A subset: \n",
      "['f', 'g', 'h', 'i', 'j', 'k', 'l', 'm', 'n', 'o', 'p', 'q', 'r', 's', 't']\n"
     ]
    }
   ],
   "source": [
    "myList[:] #the whole list\n",
    "\n",
    "aSecondList = myList[:] #you can copy a list this way, using just the colon copies the entire list\n",
    "\n",
    "aSubset = myList[5:20] #this is a new variable with just a subset of the elements\n",
    "\n",
    "print(\"Full list: \")\n",
    "print(aSecondList)\n",
    "\n",
    "print(\"A subset: \")\n",
    "print(aSubset)"
   ]
  },
  {
   "attachments": {},
   "cell_type": "markdown",
   "metadata": {},
   "source": [
    "### Changing List Elements"
   ]
  },
  {
   "cell_type": "code",
   "execution_count": 44,
   "metadata": {},
   "outputs": [
    {
     "name": "stdout",
     "output_type": "stream",
     "text": [
      "['blue', 'red', 'yellow']\n",
      "['blue', 'red', 'yellow', 'green']\n",
      "['blue', 'red', 'yellow', 'purple']\n"
     ]
    }
   ],
   "source": [
    "# Adding Elements to a List\n",
    "\n",
    "colorsList = ['blue','red','yellow']\n",
    "\n",
    "print(colorsList)\n",
    "\n",
    "# append a new element to the end of the list\n",
    "colorsList.append('green')\n",
    "\n",
    "print(colorsList)\n",
    "\n",
    "# change green to purple\n",
    "colorsList[3] = 'purple'\n",
    "\n",
    "print(colorsList)"
   ]
  },
  {
   "attachments": {},
   "cell_type": "markdown",
   "metadata": {},
   "source": [
    "## Tuples\n",
    "\n",
    "Tuples are a collection that is immutable (the elements can't be changed once the tuple is declared)"
   ]
  },
  {
   "cell_type": "code",
   "execution_count": 8,
   "metadata": {},
   "outputs": [
    {
     "name": "stdout",
     "output_type": "stream",
     "text": [
      "(34, 44, 54, 64, 74)\n",
      "34\n",
      "44\n",
      "('one', 'two', 'three', 'four', 'five')\n",
      "one turtle dove\n",
      " two turtle doves\n",
      " three french hens\n",
      " four calling birds\n",
      " five golden rings\n"
     ]
    }
   ],
   "source": [
    "aTuple = (34,44,54,64,74)\n",
    "print(aTuple)\n",
    "\n",
    "print(aTuple[0])\n",
    "print(aTuple[1])\n",
    "\n",
    "aStringTuple = ('one','two','three','four','five')\n",
    "print(aStringTuple)\n",
    "\n",
    "aSentence = \"{0} turtle dove\\n {1} turtle doves\\n {2} french hens\\n {3} calling birds\\n {4} golden rings\"\n",
    "print(aSentence.format(aStringTuple[0],aStringTuple[1],aStringTuple[2],aStringTuple[3],aStringTuple[4]))"
   ]
  },
  {
   "attachments": {},
   "cell_type": "markdown",
   "metadata": {},
   "source": [
    "## Dictionaries\n",
    "\n",
    "Dictionaries are collections of key/value pairs. "
   ]
  },
  {
   "cell_type": "code",
   "execution_count": null,
   "metadata": {},
   "outputs": [],
   "source": []
  }
 ],
 "metadata": {
  "kernelspec": {
   "display_name": "base",
   "language": "python",
   "name": "python3"
  },
  "language_info": {
   "codemirror_mode": {
    "name": "ipython",
    "version": 3
   },
   "file_extension": ".py",
   "mimetype": "text/x-python",
   "name": "python",
   "nbconvert_exporter": "python",
   "pygments_lexer": "ipython3",
   "version": "3.9.15 | packaged by conda-forge | (main, Nov 22 2022, 08:50:29) \n[Clang 14.0.6 ]"
  },
  "orig_nbformat": 4,
  "vscode": {
   "interpreter": {
    "hash": "118062133b0c6bb80e1f2544dbcc34f8df47a9cf2173203c7f1f3596e7b13a29"
   }
  }
 },
 "nbformat": 4,
 "nbformat_minor": 2
}
