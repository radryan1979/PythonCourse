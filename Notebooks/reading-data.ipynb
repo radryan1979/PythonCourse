{
 "cells": [
  {
   "cell_type": "code",
   "execution_count": 13,
   "metadata": {},
   "outputs": [],
   "source": [
    "fileloc = '../Data/letters.csv'"
   ]
  },
  {
   "cell_type": "code",
   "execution_count": 2,
   "metadata": {},
   "outputs": [],
   "source": [
    "with open(fileloc) as f:\n",
    "    lines = f.readlines()"
   ]
  },
  {
   "cell_type": "code",
   "execution_count": 11,
   "metadata": {},
   "outputs": [
    {
     "data": {
      "text/plain": [
       "'\"Letter\", \"Frequency\", \"Percentage\"\\n'"
      ]
     },
     "execution_count": 11,
     "metadata": {},
     "output_type": "execute_result"
    }
   ],
   "source": [
    "len(lines)\n",
    "#print(lines)\n",
    "lines[0]"
   ]
  },
  {
   "cell_type": "code",
   "execution_count": 15,
   "metadata": {},
   "outputs": [
    {
     "name": "stdout",
     "output_type": "stream",
     "text": [
      "Column names are Letter,  \"Frequency\",  \"Percentage\"\n",
      "\t    \"A\" has   24373121 entries, which is   8.1 %.\n",
      "\t    \"B\" has    4762938 entries, which is   1.6 %.\n",
      "\t    \"C\" has    8982417 entries, which is   3.0 %.\n",
      "\t    \"D\" has   10805580 entries, which is   3.6 %.\n",
      "\t    \"E\" has   37907119 entries, which is  12.6 %.\n",
      "\t    \"F\" has    7486889 entries, which is   2.5 %.\n",
      "\t    \"G\" has    5143059 entries, which is   1.7 %.\n",
      "\t    \"H\" has   18058207 entries, which is   6.0 %.\n",
      "\t    \"I\" has   21820970 entries, which is   7.3 %.\n",
      "\t    \"J\" has     474021 entries, which is   0.2 %.\n",
      "\t    \"K\" has    1720909 entries, which is   0.6 %.\n",
      "\t    \"L\" has   11730498 entries, which is   3.9 %.\n",
      "\t    \"M\" has    7391366 entries, which is   2.5 %.\n",
      "\t    \"N\" has   21402466 entries, which is   7.1 %.\n",
      "\t    \"O\" has   23215532 entries, which is   7.7 %.\n",
      "\t    \"P\" has    5719422 entries, which is   1.9 %.\n",
      "\t    \"Q\" has     297237 entries, which is   0.1 %.\n",
      "\t    \"R\" has   17897352 entries, which is   5.9 %.\n",
      "\t    \"S\" has   19059775 entries, which is   6.3 %.\n",
      "\t    \"T\" has   28691274 entries, which is   9.5 %.\n",
      "\t    \"U\" has    8022379 entries, which is   2.7 %.\n",
      "\t    \"V\" has    2835696 entries, which is   0.9 %.\n",
      "\t    \"W\" has    6505294 entries, which is   2.2 %.\n",
      "\t    \"X\" has     562732 entries, which is   0.2 %.\n",
      "\t    \"Y\" has    5910495 entries, which is   2.0 %.\n",
      "\t    \"Z\" has      93172 entries, which is   0.0 %.\n",
      "Processed 27 lines.\n"
     ]
    }
   ],
   "source": [
    "import csv\n",
    "\n",
    "with open(fileloc) as csv_file:\n",
    "    csv_reader = csv.reader(csv_file, delimiter=',')\n",
    "    line_count = 0\n",
    "    for row in csv_reader:\n",
    "        if line_count == 0:\n",
    "            print(f'Column names are {\", \".join(row)}')\n",
    "            line_count += 1\n",
    "        else:\n",
    "            print(f'\\t{row[0]} has {row[1]} entries, which is {row[2]} %.')\n",
    "            line_count += 1\n",
    "    print(f'Processed {line_count} lines.')"
   ]
  },
  {
   "cell_type": "code",
   "execution_count": 7,
   "metadata": {},
   "outputs": [
    {
     "name": "stdout",
     "output_type": "stream",
     "text": [
      "{'\"': 'L', ' ': ' '}\n"
     ]
    }
   ],
   "source": [
    "letter_dict={}\n",
    "for rows in lines:\n",
    "    letter_dict[rows[0]]=rows[1]\n",
    "    \n",
    "print(letter_dict)"
   ]
  }
 ],
 "metadata": {
  "kernelspec": {
   "display_name": "Python 3.9.15 64-bit",
   "language": "python",
   "name": "python3"
  },
  "language_info": {
   "codemirror_mode": {
    "name": "ipython",
    "version": 3
   },
   "file_extension": ".py",
   "mimetype": "text/x-python",
   "name": "python",
   "nbconvert_exporter": "python",
   "pygments_lexer": "ipython3",
   "version": "3.9.15 (main, Oct 12 2022, 02:45:04) \n[Clang 13.0.0 (clang-1300.0.29.30)]"
  },
  "orig_nbformat": 4,
  "vscode": {
   "interpreter": {
    "hash": "7a792fcb311f9eb9f3c1b942a8c87ada8484712b89b670347c16a1088e0a1f69"
   }
  }
 },
 "nbformat": 4,
 "nbformat_minor": 2
}
