{
 "cells": [
  {
   "cell_type": "markdown",
   "metadata": {},
   "source": [
    "# Ryan's Python Quick Course"
   ]
  },
  {
   "cell_type": "markdown",
   "metadata": {},
   "source": [
    "We all start with the same program in every language: Hello, World!"
   ]
  },
  {
   "cell_type": "code",
   "execution_count": 1,
   "metadata": {},
   "outputs": [
    {
     "name": "stdout",
     "output_type": "stream",
     "text": [
      "Hello, World!\n"
     ]
    }
   ],
   "source": [
    "print('Hello, World!')"
   ]
  },
  {
   "cell_type": "markdown",
   "metadata": {},
   "source": [
    "Math Basics"
   ]
  },
  {
   "cell_type": "code",
   "execution_count": 14,
   "metadata": {},
   "outputs": [
    {
     "data": {
      "text/plain": [
       "4"
      ]
     },
     "execution_count": 14,
     "metadata": {},
     "output_type": "execute_result"
    }
   ],
   "source": [
    "2+2 #addition\n"
   ]
  },
  {
   "cell_type": "code",
   "execution_count": 11,
   "metadata": {},
   "outputs": [
    {
     "data": {
      "text/plain": [
       "2"
      ]
     },
     "execution_count": 11,
     "metadata": {},
     "output_type": "execute_result"
    }
   ],
   "source": [
    "5-3 #subtraction"
   ]
  },
  {
   "cell_type": "code",
   "execution_count": 10,
   "metadata": {},
   "outputs": [
    {
     "data": {
      "text/plain": [
       "15"
      ]
     },
     "execution_count": 10,
     "metadata": {},
     "output_type": "execute_result"
    }
   ],
   "source": [
    "5*3 #multiplication"
   ]
  },
  {
   "cell_type": "code",
   "execution_count": 9,
   "metadata": {},
   "outputs": [
    {
     "data": {
      "text/plain": [
       "1.6666666666666667"
      ]
     },
     "execution_count": 9,
     "metadata": {},
     "output_type": "execute_result"
    }
   ],
   "source": [
    "5/3 #division"
   ]
  },
  {
   "cell_type": "code",
   "execution_count": null,
   "metadata": {},
   "outputs": [
    {
     "ename": "",
     "evalue": "",
     "output_type": "error",
     "traceback": [
      "\u001b[1;31mFailed to start the Kernel. \n",
      "\u001b[1;31mTraceback (most recent call last):\n",
      "\u001b[1;31m  File \"/Users/ryaneagan/.vscode/extensions/ms-toolsai.jupyter-2022.11.1003412109/pythonFiles/vscode_datascience_helpers/jupyter_daemon.py\", line 158, in _start_notebook\n",
      "\u001b[1;31m    from notebook import notebookapp as app\n",
      "\u001b[1;31m  File \"/Users/ryaneagan/Library/Python/3.10/lib/python/site-packages/notebook/notebookapp.py\", line 80, in <module>\n",
      "\u001b[1;31m    from .services.contents.manager import ContentsManager\n",
      "\u001b[1;31m  File \"/Users/ryaneagan/Library/Python/3.10/lib/python/site-packages/notebook/services/contents/manager.py\", line 17, in <module>\n",
      "\u001b[1;31m    from nbformat import sign, validate as validate_nb, ValidationError\n",
      "\u001b[1;31mModuleNotFoundError: No module named 'nbformat'\n",
      "\u001b[1;31m\n",
      "\u001b[1;31mDuring handling of the above exception, another exception occurred:\n",
      "\u001b[1;31m\n",
      "\u001b[1;31mTraceback (most recent call last):\n",
      "\u001b[1;31m  File \"/Users/ryaneagan/.vscode/extensions/ms-toolsai.jupyter-2022.11.1003412109/pythonFiles/vscode_datascience_helpers/daemon/daemon_python.py\", line 54, in _decorator\n",
      "\u001b[1;31m    return func(self, *args, **kwargs)\n",
      "\u001b[1;31m  File \"/Users/ryaneagan/.vscode/extensions/ms-toolsai.jupyter-2022.11.1003412109/pythonFiles/vscode_datascience_helpers/jupyter_daemon.py\", line 111, in m_exec_module_observable\n",
      "\u001b[1;31m    self._start_notebook(args, cwd, env)\n",
      "\u001b[1;31m  File \"/Users/ryaneagan/.vscode/extensions/ms-toolsai.jupyter-2022.11.1003412109/pythonFiles/vscode_datascience_helpers/jupyter_daemon.py\", line 160, in _start_notebook\n",
      "\u001b[1;31m    from notebook import app as app\n",
      "\u001b[1;31mImportError: cannot import name 'app' from 'notebook' (/Users/ryaneagan/Library/Python/3.10/lib/python/site-packages/notebook/__init__.py)\n",
      "\u001b[1;31m\n",
      "\u001b[1;31mFailed to run jupyter as observable with args notebook --no-browser --notebook-dir=\"/Users/ryaneagan/PythonCourse/Notebooks\" --config=/var/folders/hg/by60chbx3gv__xtd5c1p9sxm0000gn/T/20640339-cd73-47f3-b173-31102dff43a0/jupyter_notebook_config.py --NotebookApp.iopub_data_rate_limit=10000000000.0. \n",
      "\u001b[1;31mView Jupyter <a href='command:jupyter.viewOutput'>log</a> for further details."
     ]
    }
   ],
   "source": [
    "5//3 #integer division"
   ]
  },
  {
   "cell_type": "code",
   "execution_count": null,
   "metadata": {},
   "outputs": [
    {
     "ename": "",
     "evalue": "",
     "output_type": "error",
     "traceback": [
      "\u001b[1;31mFailed to start the Kernel. \n",
      "\u001b[1;31mTraceback (most recent call last):\n",
      "\u001b[1;31m  File \"/Users/ryaneagan/.vscode/extensions/ms-toolsai.jupyter-2022.11.1003412109/pythonFiles/vscode_datascience_helpers/jupyter_daemon.py\", line 158, in _start_notebook\n",
      "\u001b[1;31m    from notebook import notebookapp as app\n",
      "\u001b[1;31m  File \"/Users/ryaneagan/Library/Python/3.10/lib/python/site-packages/notebook/notebookapp.py\", line 80, in <module>\n",
      "\u001b[1;31m    from .services.contents.manager import ContentsManager\n",
      "\u001b[1;31m  File \"/Users/ryaneagan/Library/Python/3.10/lib/python/site-packages/notebook/services/contents/manager.py\", line 17, in <module>\n",
      "\u001b[1;31m    from nbformat import sign, validate as validate_nb, ValidationError\n",
      "\u001b[1;31mModuleNotFoundError: No module named 'nbformat'\n",
      "\u001b[1;31m\n",
      "\u001b[1;31mDuring handling of the above exception, another exception occurred:\n",
      "\u001b[1;31m\n",
      "\u001b[1;31mTraceback (most recent call last):\n",
      "\u001b[1;31m  File \"/Users/ryaneagan/.vscode/extensions/ms-toolsai.jupyter-2022.11.1003412109/pythonFiles/vscode_datascience_helpers/daemon/daemon_python.py\", line 54, in _decorator\n",
      "\u001b[1;31m    return func(self, *args, **kwargs)\n",
      "\u001b[1;31m  File \"/Users/ryaneagan/.vscode/extensions/ms-toolsai.jupyter-2022.11.1003412109/pythonFiles/vscode_datascience_helpers/jupyter_daemon.py\", line 111, in m_exec_module_observable\n",
      "\u001b[1;31m    self._start_notebook(args, cwd, env)\n",
      "\u001b[1;31m  File \"/Users/ryaneagan/.vscode/extensions/ms-toolsai.jupyter-2022.11.1003412109/pythonFiles/vscode_datascience_helpers/jupyter_daemon.py\", line 160, in _start_notebook\n",
      "\u001b[1;31m    from notebook import app as app\n",
      "\u001b[1;31mImportError: cannot import name 'app' from 'notebook' (/Users/ryaneagan/Library/Python/3.10/lib/python/site-packages/notebook/__init__.py)\n",
      "\u001b[1;31m\n",
      "\u001b[1;31mFailed to run jupyter as observable with args notebook --no-browser --notebook-dir=\"/Users/ryaneagan/PythonCourse/Notebooks\" --config=/var/folders/hg/by60chbx3gv__xtd5c1p9sxm0000gn/T/272fc9c3-74aa-43a7-8803-a1f0df871e87/jupyter_notebook_config.py --NotebookApp.iopub_data_rate_limit=10000000000.0. \n",
      "\u001b[1;31mView Jupyter <a href='command:jupyter.viewOutput'>log</a> for further details."
     ]
    }
   ],
   "source": [
    "5**3 #exponents, note difference from MatLAB"
   ]
  },
  {
   "cell_type": "code",
   "execution_count": 12,
   "metadata": {},
   "outputs": [
    {
     "data": {
      "text/plain": [
       "0.0625"
      ]
     },
     "execution_count": 12,
     "metadata": {},
     "output_type": "execute_result"
    }
   ],
   "source": [
    "2**(-4)"
   ]
  },
  {
   "cell_type": "code",
   "execution_count": 1,
   "metadata": {},
   "outputs": [
    {
     "data": {
      "text/plain": [
       "24000000000.0"
      ]
     },
     "execution_count": 1,
     "metadata": {},
     "output_type": "execute_result"
    }
   ],
   "source": [
    "2.4e+10 + 4.8e-10 #scientific notation\n"
   ]
  },
  {
   "cell_type": "markdown",
   "metadata": {},
   "source": [
    "## For Loops\n",
    "\n",
    "In MATLab it looked like this\n",
    "```matlab\n",
    "%matlab\n",
    "x = zeros(1,10);\n",
    "for n = 1 : 10\n",
    "    x(n) = n;\n",
    "end\n",
    "```\n",
    "\n",
    "In Python, it looks like this, note the importance of the indent."
   ]
  },
  {
   "cell_type": "code",
   "execution_count": 4,
   "metadata": {},
   "outputs": [],
   "source": [
    "import numpy as np\n",
    "x = np.zeros(10) # all of the good array and math features are in numpy\n",
    "for n in range(10):\n",
    "    x[n] = n  #any sub routine, function, etc. gets indented and the next non-indented line indicates the end"
   ]
  },
  {
   "cell_type": "markdown",
   "metadata": {},
   "source": [
    "## While Loops\n",
    "\n",
    "In MATLab is looked like this\n",
    "\n",
    "```matlab\n",
    "n = 1;\n",
    "sum = 0;\n",
    "while n <= 100\n",
    "    sum = sum + n;\n",
    "    n = n + 1;\n",
    "end\n",
    "```\n",
    "\n",
    "In Python, it looks like this, again the indent is the key."
   ]
  },
  {
   "cell_type": "code",
   "execution_count": 5,
   "metadata": {},
   "outputs": [
    {
     "name": "stdout",
     "output_type": "stream",
     "text": [
      "The while loop has ended and n= 101\n"
     ]
    }
   ],
   "source": [
    "n = 1\n",
    "sum = 0\n",
    "while n <= 100:\n",
    "    sum = sum + n\n",
    "    n = n + 1\n",
    "\n",
    "print('The while loop has ended and n=', n) #This line would execute after the loop ended."
   ]
  },
  {
   "cell_type": "markdown",
   "metadata": {},
   "source": [
    "## Array Basics\n",
    "\n",
    "Matlab did it this way:\n",
    "\n",
    "```matlab\n",
    "a = [1 2 3 4 5 6 7 8 9]\n",
    "b = [1 2 3;4 9 6;7 8 9]\n",
    "c = zeros(3,3)\n",
    "d = ones(3,3)\n",
    "e = magic(8)\n",
    "f = 0:10:100\n",
    "g = rand(3,5)\n",
    "h = eye(5)\n",
    "```"
   ]
  },
  {
   "cell_type": "code",
   "execution_count": 6,
   "metadata": {},
   "outputs": [],
   "source": [
    "import numpy as np\n",
    "a = np.array([1,2,3,4,5,6,7,8,9])\n",
    "b = np.array([[1,2,3],[4,9,6],[7,8,9]])\n",
    "c = np.zeros((3,3))\n",
    "d = np.ones((3,3))\n",
    "#no function to create magic matrix\n",
    "f = np.arange(0,100,10)\n",
    "g = np.random.uniform(0,1,(3,5))\n",
    "h = np.eye(5)"
   ]
  }
 ],
 "metadata": {
  "kernelspec": {
   "display_name": "base",
   "language": "python",
   "name": "python3"
  },
  "language_info": {
   "codemirror_mode": {
    "name": "ipython",
    "version": 3
   },
   "file_extension": ".py",
   "mimetype": "text/x-python",
   "name": "python",
   "nbconvert_exporter": "python",
   "pygments_lexer": "ipython3",
   "version": "3.9.13 (main, Aug 25 2022, 18:29:29) \n[Clang 12.0.0 ]"
  },
  "orig_nbformat": 4,
  "vscode": {
   "interpreter": {
    "hash": "118062133b0c6bb80e1f2544dbcc34f8df47a9cf2173203c7f1f3596e7b13a29"
   }
  }
 },
 "nbformat": 4,
 "nbformat_minor": 2
}
