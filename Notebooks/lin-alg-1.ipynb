{
 "cells": [
  {
   "cell_type": "markdown",
   "metadata": {},
   "source": []
  },
  {
   "cell_type": "code",
   "execution_count": 17,
   "metadata": {},
   "outputs": [],
   "source": [
    "import numpy as np\n",
    "import matplotlib.pyplot as plt\n",
    "import scipy as sp"
   ]
  },
  {
   "cell_type": "code",
   "execution_count": 7,
   "metadata": {},
   "outputs": [
    {
     "name": "stdout",
     "output_type": "stream",
     "text": [
      "[3 4 5]\n"
     ]
    }
   ],
   "source": [
    "A = np.array([[1,0,0],[0,1,0],[0,0,1]])\n",
    "v = np.array([3,4,5])\n",
    "\n",
    "b = np.dot(A,v)\n",
    "print(b)"
   ]
  },
  {
   "cell_type": "code",
   "execution_count": 10,
   "metadata": {},
   "outputs": [
    {
     "data": {
      "text/plain": [
       "1"
      ]
     },
     "execution_count": 10,
     "metadata": {},
     "output_type": "execute_result"
    }
   ],
   "source": [
    "np.linalg.matrix_rank(A)\n",
    "\n",
    "B = np.array([[1,1,1],[2,2,2],[4,4,4]])\n",
    "np.linalg.matrix_rank(B)"
   ]
  },
  {
   "cell_type": "code",
   "execution_count": 16,
   "metadata": {},
   "outputs": [
    {
     "name": "stdout",
     "output_type": "stream",
     "text": [
      "[[-2.18217890e-01  9.75900073e-01 -2.02874033e-16]\n",
      " [-4.36435780e-01 -9.75900073e-02 -8.94427191e-01]\n",
      " [-8.72871561e-01 -1.95180015e-01  4.47213595e-01]]\n",
      "[7.93725393e+00 4.05396130e-16 0.00000000e+00]\n",
      "[[-0.57735027 -0.57735027 -0.57735027]\n",
      " [ 0.81649658 -0.40824829 -0.40824829]\n",
      " [ 0.         -0.70710678  0.70710678]]\n"
     ]
    }
   ],
   "source": [
    "[U,S,V] = np.linalg.svd(B)\n",
    "print(U)\n",
    "print(S)\n",
    "print(V)"
   ]
  },
  {
   "cell_type": "code",
   "execution_count": 18,
   "metadata": {},
   "outputs": [
    {
     "name": "stdout",
     "output_type": "stream",
     "text": [
      "[[0. 0. 1.]\n",
      " [0. 1. 0.]\n",
      " [1. 0. 0.]]\n",
      "[[1.   0.   0.  ]\n",
      " [0.5  1.   0.  ]\n",
      " [0.25 0.   1.  ]]\n",
      "[[4. 4. 4.]\n",
      " [0. 0. 0.]\n",
      " [0. 0. 0.]]\n"
     ]
    }
   ],
   "source": [
    "P,L,U = sp.linalg.lu(B)\n",
    "print(P)\n",
    "print(L)\n",
    "print(U)"
   ]
  }
 ],
 "metadata": {
  "kernelspec": {
   "display_name": "base",
   "language": "python",
   "name": "python3"
  },
  "language_info": {
   "codemirror_mode": {
    "name": "ipython",
    "version": 3
   },
   "file_extension": ".py",
   "mimetype": "text/x-python",
   "name": "python",
   "nbconvert_exporter": "python",
   "pygments_lexer": "ipython3",
   "version": "3.9.13 (main, Aug 25 2022, 18:29:29) \n[Clang 12.0.0 ]"
  },
  "orig_nbformat": 4,
  "vscode": {
   "interpreter": {
    "hash": "118062133b0c6bb80e1f2544dbcc34f8df47a9cf2173203c7f1f3596e7b13a29"
   }
  }
 },
 "nbformat": 4,
 "nbformat_minor": 2
}
